{
 "cells": [
  {
   "cell_type": "code",
   "execution_count": 1,
   "metadata": {
    "collapsed": true
   },
   "outputs": [],
   "source": [
    "# Car Specifications\n",
    "# https://www.auto-data.net/en/?f=showModel&marki_id=138\n",
    "import urllib\n",
    "import urllib.request\n",
    "from bs4 import BeautifulSoup"
   ]
  },
  {
   "cell_type": "code",
   "execution_count": 2,
   "metadata": {
    "collapsed": true
   },
   "outputs": [],
   "source": [
    "#Get URL\n",
    "theurl = \"https://www.auto-data.net/en/?f=showCar&car_id=23381\""
   ]
  },
  {
   "cell_type": "code",
   "execution_count": 3,
   "metadata": {
    "collapsed": true
   },
   "outputs": [],
   "source": [
    "def make_soup(url):\n",
    "    thepage=urllib.request.urlopen(url)\n",
    "    soupdata=BeautifulSoup(thepage, \"html.parser\")\n",
    "    return soupdata"
   ]
  },
  {
   "cell_type": "code",
   "execution_count": 4,
   "metadata": {
    "collapsed": true
   },
   "outputs": [],
   "source": [
    "#Soup Object\n",
    "soup = make_soup(theurl)"
   ]
  },
  {
   "cell_type": "code",
   "execution_count": null,
   "metadata": {},
   "outputs": [],
   "source": [
    "print(soup.prettify())"
   ]
  },
  {
   "cell_type": "code",
   "execution_count": 6,
   "metadata": {},
   "outputs": [],
   "source": [
    "data = []\n",
    "table = soup.find('table', attrs={'class':'carData rightT'})\n",
    "#table_body = table.find('tbody')\n",
    "\n",
    "rows = table.find_all('tr')\n",
    "for row in rows:\n",
    "    cols = row.find_all('td')\n",
    "    cols = [ele.text.strip() for ele in cols]\n",
    "    data.append([ele for ele in cols if ele]) # Get rid of empty values"
   ]
  },
  {
   "cell_type": "code",
   "execution_count": 7,
   "metadata": {},
   "outputs": [
    {
     "data": {
      "text/plain": [
       "[['Brand', 'Mercedes-Benz'],\n",
       " ['Model', 'A-class'],\n",
       " ['Generation', 'A-class (W176 facelift 2015)'],\n",
       " ['Modification (Engine)', 'AMG A 45 (381 Hp) 4MATIC DCT'],\n",
       " ['Doors', '5'],\n",
       " ['Power', '381 hp/6000 rpm.'],\n",
       " ['Maximum speed', '250 km/h'],\n",
       " ['Acceleration 0 - 100 km/h', '4.2 sec'],\n",
       " ['Fuel tank volume', '56 l'],\n",
       " ['Year of putting into production', '2015 year'],\n",
       " ['Coupe type', 'Hatchback'],\n",
       " ['Seats', '5'],\n",
       " ['Length', '4367 mm.'],\n",
       " ['Width', '1780 mm.'],\n",
       " ['Width including mirrors', '2022 mm.'],\n",
       " ['Height', '1417 mm.'],\n",
       " ['Wheelbase', '2699 mm.'],\n",
       " ['Front track', '1557 mm.'],\n",
       " ['Rear (Back) track', '1561 mm.'],\n",
       " ['Drag coefficient', '0.35'],\n",
       " ['Ride height', '80 mm.'],\n",
       " ['Approach angle', '10.7°'],\n",
       " ['Departure angle', '14.3°'],\n",
       " ['Ramp angle', '7.9°'],\n",
       " ['Front overhang', '939 mm.'],\n",
       " ['Rear overhang', '729 mm.'],\n",
       " ['Minimum volume of Luggage (trunk)', '341 l'],\n",
       " ['Maximum volume of Luggage (trunk)', '1157 l'],\n",
       " ['Position of engine', 'Front, transversely'],\n",
       " ['Engine displacement', '1991 cm3'],\n",
       " ['Torque', '475 Nm/2250-5000 rpm.'],\n",
       " ['Fuel System', 'Direct injection'],\n",
       " ['Turbine', 'Twin Turbo'],\n",
       " ['Position of cylinders', 'Inline'],\n",
       " ['Number of cylinders', '4'],\n",
       " ['Compression ratio', '8.6'],\n",
       " ['Number of valves per cylinder', '4'],\n",
       " ['Fuel Type', 'Petrol (Gasoline)'],\n",
       " ['Drive wheel', 'All wheel drive (4x4)'],\n",
       " ['Number of Gears (automatic transmission)', '7 DCT'],\n",
       " ['Front suspension', 'Independent type McPherson'],\n",
       " ['Rear suspension', 'Multi-link independent'],\n",
       " ['Front brakes', 'Ventilated discs'],\n",
       " ['Rear brakes', 'Ventilated discs'],\n",
       " ['ABS', 'yes'],\n",
       " ['Steering type', 'Steering rack'],\n",
       " ['Power steering', 'Electric Steering'],\n",
       " ['Minimum turning circle (turning diameter)', '11.04 m'],\n",
       " ['Fuel consumption (economy) - urban', '9.6-9.2 l/100 km.'],\n",
       " ['Fuel consumption (economy) - extra urban', '6.0-5.6 l/100 km.'],\n",
       " ['Fuel consumption (economy) - combined', '7.3-6.9 l/100 km.'],\n",
       " ['Emission standard', 'EURO VI'],\n",
       " ['CO2 emissions', '171-162 g/km'],\n",
       " ['Kerb Weight', '1480 kg.'],\n",
       " ['Max. weight', '2050 kg.'],\n",
       " ['Max. roof load', '100 kg.'],\n",
       " ['Tire size', '235/40 R18'],\n",
       " ['Wheel rims size', 'R18']]"
      ]
     },
     "execution_count": 7,
     "metadata": {},
     "output_type": "execute_result"
    }
   ],
   "source": [
    "data"
   ]
  },
  {
   "cell_type": "code",
   "execution_count": null,
   "metadata": {},
   "outputs": [],
   "source": [
    "# Get price frm another website\n",
    "#theurl_price = \"http://www.sgcarmart.com/new_cars/newcars_listing.php?BRSR=0&MOD=Mercedes-Benz&RPG=15\"\n",
    "theurl_price = \"http://www.oneshift.com/new_cars/car-dealer-price-list.php?m=23\"\n",
    "#Soup Object\n",
    "soup_price = make_soup(theurl_price)\n",
    "print(soup_price.prettify())"
   ]
  },
  {
   "cell_type": "code",
   "execution_count": 9,
   "metadata": {},
   "outputs": [],
   "source": [
    "# tablename = table sticky-enabled table-responsive results\n",
    "data_price = []\n",
    "data_name = []\n",
    "table_price = soup_price.find_all('td', attrs={'align':'center'})\n",
    "table_name = soup_price.find_all('strong')\n",
    "#table_body = table.find('tbody')\n",
    "#print (table_price)\n",
    "#print (table_carname)\n",
    "\n",
    "#print (len(table_price))\n",
    "for row_td in table_price:\n",
    "    cols = row_td.find_all('span', attrs={'class':'text-price-s'})\n",
    "    #print (len(cols))\n",
    "    z = len(cols)\n",
    "    if z is 0:\n",
    "        continue\n",
    "    cols = [ele.text.strip() for ele in cols if len(cols) > 0]\n",
    "    data_price.append([ele for ele in cols])\n",
    "\n",
    "for row_strong in table_name:    \n",
    "    #print(row_strong.text.strip())\n",
    "    data_name.append(row_strong.text.strip())\n",
    "  \n",
    "# fetch only car names from <strong>.\n",
    "data_carname = [x for x in data_name if \"Mercedes-Benz\" in x]"
   ]
  },
  {
   "cell_type": "code",
   "execution_count": 10,
   "metadata": {
    "collapsed": true
   },
   "outputs": [],
   "source": [
    "remove_list = [\"Mercedes-Benz CLA Coupe 220 CDI 2017\", \"Mercedes-Benz S-Class S450L (A) 2017\", \"Mercedes-Benz GLC 200 (A) 2017\"]\n",
    "\n",
    "# Remove the cars for which we dont have price\n",
    "for str in remove_list:\n",
    "    data_carname.remove(str)"
   ]
  },
  {
   "cell_type": "code",
   "execution_count": 11,
   "metadata": {},
   "outputs": [
    {
     "name": "stdout",
     "output_type": "stream",
     "text": [
      "[('Mercedes-Benz A-Class A180 Style (A) 2017', '$136,888'), ('Mercedes-Benz A-Class A180 Urban (A) 2017', '$144,888'), ('Mercedes-Benz A-Class A200 BlueEFFICIENCY Style (A) 2013', '$146,888'), ('Mercedes-Benz A-Class A250 Sport (A) 2013', '$178,888'), ('Mercedes-Benz AMG A45 4Matic (A) 2016', '$279,888'), ('Mercedes-Benz AMG C180 Line (A) 2014', '$204,888'), ('Mercedes-Benz AMG C200 Line (A) 2014', '$227,888'), ('Mercedes-Benz AMG C250 Line (A) 2014', '$238,888'), ('Mercedes-Benz AMG C63 2015', '$435,888'), ('Mercedes-Benz AMG C63 S 2015', '$455,888'), ('Mercedes-Benz AMG GT 4.0 (A) 2016', '$600,888'), ('Mercedes-Benz AMG GT S 4.0 (A) 2015', '$685,888'), ('Mercedes-Benz AMG Shooting Brake CLA 45 4Matic (A) 2016', '$292,888'), ('Mercedes-Benz B-Class B180 Style (A) 2017', '$150,888'), ('Mercedes-Benz B-Class B180 Urban (A) 2017', '$157,888'), ('Mercedes-Benz B-Class B200 Style (A) 2017', '$166,888'), ('Mercedes-Benz B-Class B200 Urban (A) 2017', '$174,888'), ('Mercedes-Benz C-Class C180 Avantgarde (A) 2014', '$190,888'), ('Mercedes-Benz C-Class C180 Exclusive (A) 2014', '$193,888'), ('Mercedes-Benz C-Class C200 Avantgarde (A) 2014', '$216,888'), ('Mercedes-Benz C-Class C200 Exclusive (A) 2014', '$219,888'), ('Mercedes-Benz C-Class C250 Avantgarde (A) 2014', '$230,888'), ('Mercedes-Benz C-Class C43 AMG 4Matic (A) 2017', '$323,888'), ('Mercedes-Benz C-Class Cabriolet AMG C 43 4Matic (A) 2017', '$366,888'), ('Mercedes-Benz C-Class Cabriolet AMG C 63 S (A) 2017', '$484,888'), ('Mercedes-Benz C-Class Cabriolet C180 (A) 2017', '$220,888'), ('Mercedes-Benz C-Class Cabriolet C200 (A) 2017', '$241,888'), ('Mercedes-Benz C-Class Cabriolet C300 (A) 2017', '$279,888'), ('Mercedes-Benz C-Class Coupe AMG C 43 4Matic (A) 2017', '$332,888'), ('Mercedes-Benz C-Class Coupe C 63 S AMG (A) 2017', '$462,888'), ('Mercedes-Benz C-Class Coupe C180 (A) 2017', '$187,888'), ('Mercedes-Benz C-Class Coupe C200 (A) 2017', '$213,888'), ('Mercedes-Benz C-Class Coupe C300 (A) 2017', '$251,888'), ('Mercedes-Benz C-Class Estate AMG 43 4Matic (A) 2017', '$329,888'), ('Mercedes-Benz C-Class Estate C200 Avantgarde (A) 2015', '$212,888'), ('Mercedes-Benz CLA 180 (A) 2017', '$170,888'), ('Mercedes-Benz CLA 200 (A) 2017', '$179,888'), ('Mercedes-Benz CLA 250 Sport (A) 2015', '$189,888'), ('Mercedes-Benz CLA 45 AMG 4Matic (A) 2017', '$288,888'), ('Mercedes-Benz CLA  Shooting Brake 180 (A) 2017', '$170,888'), ('Mercedes-Benz CLA  Shooting Brake 200 (A) 2017', '$180,888'), ('Mercedes-Benz CLA  Shooting Brake 250 Sport 4Matic (A) 2017', '$193,888'), ('Mercedes-Benz CLA Coupe 180 (A) 2017', '$169,888'), ('Mercedes-Benz CLA Coupe 200 (A) 2017', '$183,888'), ('Mercedes-Benz CLA Coupe 250 Sport (A) 2017', '$193,888'), ('Mercedes-Benz CLA Shooting Brake 180 (A) 2017', '$170,888'), ('Mercedes-Benz CLA Shooting Brake 200 (A) 2017', '$180,888'), ('Mercedes-Benz CLA Shooting Brake 250 Sport 4Matic (A) 2017', '$193,888'), ('Mercedes-Benz CLS-Class CLS 400 (A) 2015', '$350,888'), ('Mercedes-Benz CLS-Class Shooting Brake CLS 400 (A) 2015', '$360,888'), ('Mercedes-Benz E-Class AMG E 43 4Matic (A) 2017', '$394,888'), ('Mercedes-Benz E-Class E250 AMG Line (A) 2017', '$299,888'), ('Mercedes-Benz E-Class E250 Avantgarde (A) 2017', '$281,888'), ('Mercedes-Benz E-Class E250 Exclusive (A) 2017', '$290,888'), ('Mercedes-Benz E-Class E300 AMG Line (A) 2017', '$316,888'), ('Mercedes-Benz E-Class Saloon E200 AMG Line (A) 2016', '$282,888'), ('Mercedes-Benz E-Class Saloon E200 Avantgarde (A) 2016', '$246,888'), ('Mercedes-Benz E-Class Saloon E200 Exclusive (A) 2016', '$272,888'), ('Mercedes-Benz GLA 180 (2018) (A) 2018', '$166,888'), ('Mercedes-Benz GLA 180 (A) 2015', '$169,888'), ('Mercedes-Benz GLA 200 (A) 2014', '$187,888'), ('Mercedes-Benz GLA 250 4MATIC (A) 2015', '$196,888'), ('Mercedes-Benz GLA 45 AMG 4Matic (A) 2014', '$279,888'), ('Mercedes-Benz GLC 250 4Matic (A) 2016', '$227,888'), ('Mercedes-Benz GLC AMG 43 4Matic (A) 2017', '$301,888'), ('Mercedes-Benz GLC Coupe 250 4Matic (A) 2017', '$241,888'), ('Mercedes-Benz GLC Coupe AMG 43 4Matic (A) 2017', '$315,888'), ('Mercedes-Benz GLE 250 d 4Matic (A) 2017', '$294,888'), ('Mercedes-Benz GLE 400 4Matic (A) 2016', '$342,888'), ('Mercedes-Benz GLE 400 Coupe (A) 2016', '$348,888'), ('Mercedes-Benz GLE 450 AMG 4Matic Coupe (A) 2016', '$378,888'), ('Mercedes-Benz GLE Class AMG 43 4Matic (A) 2017', '$365,888'), ('Mercedes-Benz GLS 350d 4Matic (A) 2017', '$412,888'), ('Mercedes-Benz GLS 400 4Matic 2017', '$445,888'), ('Mercedes-Benz S-Class S320 (A) 2016', '$397,888'), ('Mercedes-Benz S-Class S350 d BlueTEC (A) 2014', '$431,888'), ('Mercedes-Benz S-Class S400L  Hybrid (A) 2014', '$464,888'), ('Mercedes-Benz S-Class S500 Cabriolet (A) 2017', '$677,888'), ('Mercedes-Benz S-Class S500 Coupe (A) 2016', '$611,888'), ('Mercedes-Benz S-Class S500L  (A) 2014', '$574,888'), ('Mercedes-Benz S-Class Maybach S500 (A) 2017', '$671,888'), ('Mercedes-Benz S-Class Maybach S600 (A) 2016', '$801,888'), ('Mercedes-Benz SL-Class AMG SL63 (A) 2017', '$793,888'), ('Mercedes-Benz SL-Class AMG SL65 (A) 2017', '$968,888'), ('Mercedes-Benz SL-Class SL400 (A) 2017', '$456,888'), ('Mercedes-Benz SL-Class SL500 (A) 2017', '$577,888'), ('Mercedes-Benz SLC 180 (A) 2017', '$254,888'), ('Mercedes-Benz SLC 200 (A) 2017', '$283,888'), ('Mercedes-Benz V-Class V250 D (A) 2015', '$273,888')]\n"
     ]
    }
   ],
   "source": [
    "\n",
    "#print(data_carname)\n",
    "#print (data_price)\n",
    "#print (len(data_carname))\n",
    "#print (len(data_price))\n",
    "\n",
    "# consolidating as single list\n",
    "car_price = []\n",
    "size = len(data_carname)\n",
    "for i in range(0,size):\n",
    "    car_price.append((data_carname[i], data_price[i][0]))\n",
    "\n",
    "print (car_price)"
   ]
  },
  {
   "cell_type": "code",
   "execution_count": null,
   "metadata": {
    "collapsed": true
   },
   "outputs": [],
   "source": []
  }
 ],
 "metadata": {
  "kernelspec": {
   "display_name": "Python 3",
   "language": "python",
   "name": "python3"
  },
  "language_info": {
   "codemirror_mode": {
    "name": "ipython",
    "version": 3
   },
   "file_extension": ".py",
   "mimetype": "text/x-python",
   "name": "python",
   "nbconvert_exporter": "python",
   "pygments_lexer": "ipython3",
   "version": "3.6.1"
  }
 },
 "nbformat": 4,
 "nbformat_minor": 2
}
