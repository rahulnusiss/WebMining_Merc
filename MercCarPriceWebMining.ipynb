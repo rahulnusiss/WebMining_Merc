{
 "cells": [
  {
   "cell_type": "code",
   "execution_count": null,
   "metadata": {
    "collapsed": true
   },
   "outputs": [],
   "source": [
    "# Car Specifications\n",
    "# https://www.auto-data.net/en/?f=showModel&marki_id=138\n",
    "import urllib\n",
    "import urllib.request\n",
    "from bs4 import BeautifulSoup"
   ]
  },
  {
   "cell_type": "code",
   "execution_count": null,
   "metadata": {
    "collapsed": true
   },
   "outputs": [],
   "source": [
    "#Get URL\n",
    "#theurl = \"https://www.auto-data.net/en/?f=showCar&car_id=23381\""
   ]
  },
  {
   "cell_type": "code",
   "execution_count": null,
   "metadata": {
    "collapsed": true
   },
   "outputs": [],
   "source": [
    "def make_soup(url):\n",
    "    thepage=urllib.request.urlopen(url)\n",
    "    soupdata=BeautifulSoup(thepage, \"html.parser\")\n",
    "    return soupdata"
   ]
  },
  {
   "cell_type": "code",
   "execution_count": null,
   "metadata": {
    "collapsed": true
   },
   "outputs": [],
   "source": [
    "#Soup Object\n",
    "#soup = make_soup(theurl)"
   ]
  },
  {
   "cell_type": "code",
   "execution_count": null,
   "metadata": {
    "collapsed": true
   },
   "outputs": [],
   "source": [
    "#print(soup.prettify())"
   ]
  },
  {
   "cell_type": "code",
   "execution_count": null,
   "metadata": {},
   "outputs": [],
   "source": [
    "\"\"\"data = []\n",
    "table = soup.find('table', attrs={'class':'carData rightT'})\n",
    "#table_body = table.find('tbody')\n",
    "\n",
    "rows = table.find_all('tr')\n",
    "for row in rows:\n",
    "    cols = row.find_all('td')\n",
    "    cols = [ele.text.strip() for ele in cols]\n",
    "    data.append([ele for ele in cols if ele]) # Get rid of empty values\"\"\""
   ]
  },
  {
   "cell_type": "code",
   "execution_count": null,
   "metadata": {},
   "outputs": [],
   "source": [
    "#data"
   ]
  },
  {
   "cell_type": "code",
   "execution_count": null,
   "metadata": {},
   "outputs": [],
   "source": [
    "# Below the real data mining start"
   ]
  },
  {
   "cell_type": "code",
   "execution_count": null,
   "metadata": {},
   "outputs": [],
   "source": [
    "# Get price frm another website\n",
    "#theurl_price = \"http://www.sgcarmart.com/new_cars/newcars_listing.php?BRSR=0&MOD=Mercedes-Benz&RPG=15\"\n",
    "theurl_price = \"http://www.oneshift.com/new_cars/car-dealer-price-list.php?m=23\"\n",
    "#Soup Object\n",
    "soup_price = make_soup(theurl_price)\n",
    "print(soup_price.prettify())"
   ]
  },
  {
   "cell_type": "code",
   "execution_count": null,
   "metadata": {
    "collapsed": true
   },
   "outputs": [],
   "source": [
    "# tablename = table sticky-enabled table-responsive results\n",
    "data_price = []\n",
    "data_name = []\n",
    "table_price = soup_price.find_all('td', attrs={'align':'center'})\n",
    "table_name = soup_price.find_all('strong')\n",
    "#table_body = table.find('tbody')\n",
    "#print (table_price)\n",
    "#print (table_carname)\n",
    "\n",
    "#print (len(table_price))\n",
    "for row_td in table_price:\n",
    "    cols = row_td.find_all('span', attrs={'class':'text-price-s'})\n",
    "    #print (len(cols))\n",
    "    z = len(cols)\n",
    "    if z is 0:\n",
    "        continue\n",
    "    cols = [ele.text.strip() for ele in cols if len(cols) > 0]\n",
    "    data_price.append([ele for ele in cols])\n",
    "\n",
    "for row_strong in table_name:    \n",
    "    #print(row_strong.text.strip())\n",
    "    data_name.append(row_strong.text.strip())\n",
    "  \n",
    "# fetch only car names from <strong>.\n",
    "data_carname = [x for x in data_name if \"Mercedes-Benz\" in x]"
   ]
  },
  {
   "cell_type": "code",
   "execution_count": null,
   "metadata": {
    "collapsed": true
   },
   "outputs": [],
   "source": [
    "remove_list = [\"Mercedes-Benz CLA Coupe 220 CDI 2017\", \"Mercedes-Benz S-Class S450L (A) 2017\", \"Mercedes-Benz GLC 200 (A) 2017\"]\n",
    "\n",
    "# Remove the cars for which we dont have price\n",
    "for str in remove_list:\n",
    "    data_carname.remove(str)"
   ]
  },
  {
   "cell_type": "code",
   "execution_count": null,
   "metadata": {},
   "outputs": [],
   "source": [
    "\n",
    "#print(data_carname)\n",
    "#print (data_price)\n",
    "#print (len(data_carname))\n",
    "#print (len(data_price))\n",
    "\n",
    "# consolidating as single list\n",
    "car_price = []\n",
    "size = len(data_carname)\n",
    "for i in range(0,size):\n",
    "    car_price.append((data_carname[i], data_price[i][0]))\n",
    "\n",
    "print (car_price)"
   ]
  },
  {
   "cell_type": "code",
   "execution_count": null,
   "metadata": {},
   "outputs": [],
   "source": [
    "# tuple carname, price , url\n",
    "# find car name from href in auto-data website\n",
    "#other_url = base_url +\"123\"\n",
    "#other_url\n",
    "\n",
    "#Get URL\n",
    "theurl = \"http://www.oneshift.com/new_cars/car-dealer-price-list.php?m=23\"\n",
    "\n",
    "#Soup Object\n",
    "soup_oneshift = make_soup(theurl)\n",
    "print(soup_oneshift.prettify())\n"
   ]
  },
  {
   "cell_type": "code",
   "execution_count": null,
   "metadata": {
    "collapsed": true
   },
   "outputs": [],
   "source": [
    "import re\n"
   ]
  },
  {
   "cell_type": "code",
   "execution_count": null,
   "metadata": {},
   "outputs": [],
   "source": [
    "data_href = []\n",
    "soupdata_href = soup_oneshift.find_all('a', attrs={'href':re.compile('car_overview*')})\n",
    "soupdata_href"
   ]
  },
  {
   "cell_type": "code",
   "execution_count": null,
   "metadata": {},
   "outputs": [],
   "source": [
    "# attributes_dictionary = soup.find('div').attrs\n",
    "# print attributes_dictionary['class'][0]\n",
    "\n",
    "mercs = []\n",
    "for link in soupdata_href:\n",
    "    merc = link.find_all('strong')\n",
    "    merc = merc[0]\n",
    "    mercs.append(merc.text.strip())\n",
    "    \n",
    "mercs\n",
    "len(mercs)"
   ]
  },
  {
   "cell_type": "code",
   "execution_count": null,
   "metadata": {},
   "outputs": [],
   "source": [
    "# Test Cell\n",
    "\n",
    "# soup.find(\"meta\", {\"name\":\"City\"})['content']\n",
    "#text = soupdata_href.find('a').attrs\n",
    "#print (text['href'][0])\n",
    "\n",
    "#for link in soupdata_href:\n",
    "    #print ( link['href'] )\n",
    "merctest = \"Mercedes-Benz CLA Coupe 250 Sport (A) 2017\"\n",
    "    \n",
    "for tup in car_price:\n",
    "    #print (tup)\n",
    "    if merctest == tup[0]:\n",
    "        print (\"True\")\n",
    "        print (tup[1])\n",
    "    #print (tup[0])"
   ]
  },
  {
   "cell_type": "code",
   "execution_count": null,
   "metadata": {},
   "outputs": [],
   "source": [
    "# Consolidate all carname , price , resource uri\n",
    "remove_list = [\"Mercedes-Benz CLA Coupe 220 CDI 2017\", \"Mercedes-Benz S-Class S450L (A) 2017\", \"Mercedes-Benz GLC 200 (A) 2017\"]\n",
    "mercs_price_uri = []\n",
    "for link in soupdata_href:\n",
    "    merc = link.find_all('strong')\n",
    "    merc = merc[0]\n",
    "    merc = merc.text.strip()\n",
    "    if merc in remove_list:\n",
    "        continue\n",
    "    price = [tup[1] for tup in car_price if merc == tup[0]]\n",
    "    mercs_price_uri.append((merc, price[0], link['href']))\n",
    "    \n",
    "mercs_price_uri\n",
    "#print (len(mercs_price_uri)) "
   ]
  },
  {
   "cell_type": "code",
   "execution_count": null,
   "metadata": {},
   "outputs": [],
   "source": [
    "# Fetch data from car url\n",
    "\n",
    "base_url = \"http://www.oneshift.com/new_cars/\"\n",
    "\n",
    "new_url = base_url + mercs_price_uri[0][2]\n",
    "\n",
    "soup_merc_detail = make_soup(new_url)\n",
    "\n",
    "soup_merc_detail"
   ]
  },
  {
   "cell_type": "code",
   "execution_count": null,
   "metadata": {},
   "outputs": [],
   "source": [
    "# Test Cell\n",
    "# carNode carNode-font\n",
    "# dt emphasize\n",
    "car_pid = mercs_price_uri[0][2].split('=')\n",
    "car_pid[1]\n",
    "# specs_url = "
   ]
  },
  {
   "cell_type": "code",
   "execution_count": null,
   "metadata": {},
   "outputs": [],
   "source": [
    "# fetch payment data\n",
    "remove_list = [\"Mercedes-Benz CLA Coupe 220 CDI 2017\", \"Mercedes-Benz S-Class S450L (A) 2017\", \"Mercedes-Benz GLC 200 (A) 2017\"]\n",
    "payments = []\n",
    "for row in mercs_price_uri:\n",
    "    new_url = base_url + row[2]\n",
    "    #print (row[0])\n",
    "    #print (new_url)\n",
    "    if row[0] in remove_list:\n",
    "        continue\n",
    "    soup_temp = make_soup(new_url)\n",
    "    payment = soup_temp.find_all('dt')\n",
    "    print (payment)\n",
    "    payment_value = soup_temp.find_all('span', attrs={'class':'emphasize'})\n",
    "    temp_payments = []\n",
    "    for i in range(0,3):\n",
    "        if ( len(payment) is 3 ):\n",
    "            temp_payments.append( (payment[i].text.strip(), payment_value[i].text.strip() ))\n",
    "    if len(temp_payments) > 0:\n",
    "        payments.append(temp_payments)\n",
    "    \n",
    "\n",
    "print (payments)"
   ]
  },
  {
   "cell_type": "code",
   "execution_count": null,
   "metadata": {},
   "outputs": [],
   "source": [
    "# fetch specs for the url of specs\n",
    "# e.g 'http://www.oneshift.com/new_cars/car_specs.php?pid=5038'\n",
    "def getSpecs(test_url_specs):\n",
    "    #test_url_specs = 'http://www.oneshift.com/new_cars/car_specs.php?pid=5038'\n",
    "    soup_test_spec = make_soup(test_url_specs)\n",
    "    #soup_test_spec\n",
    "    specs_attributes = soup_test_spec.find_all('tr')\n",
    "    specs_attributes\n",
    "    specs_labels = []\n",
    "    for row_spec in specs_attributes:\n",
    "        temp_spec = row_spec.find_all('td'  , attrs={'class':'label'})\n",
    "        if len(temp_spec) > 0:\n",
    "            spec_tds = row_spec.find_all('td')\n",
    "            specs_labels.append((re.sub(\"\\s\\s+\", \" \", (spec_tds[0].text.strip())), re.sub(\"\\s\\s+\", \" \", spec_tds[1].text.strip())))\n",
    "            #print ((re.sub(\"\\s\\s+\", \" \", (spec_tds[0].text.strip()))), (re.sub(\"\\s\\s+\", \" \", spec_tds[1].text.strip())))\n",
    "\n",
    "    return specs_labels"
   ]
  },
  {
   "cell_type": "code",
   "execution_count": null,
   "metadata": {},
   "outputs": [],
   "source": [
    "# All data\n",
    "spec_base_url = \"car_specs.php?pid=\"\n",
    "cars_specs_url = []\n",
    "\n",
    "# Stores all data\n",
    "car_data = []\n",
    "for row in mercs_price_uri:\n",
    "    pid = row[2].split('=')[1]\n",
    "    specs_url = base_url + spec_base_url +pid\n",
    "    #cars_specs_url.append(specs_url)\n",
    "    spec_data = getSpecs(specs_url)\n",
    "    car_data.append((row[0],row[1],row[2],spec_data))\n",
    "\n",
    "print (car_data)"
   ]
  },
  {
   "cell_type": "code",
   "execution_count": null,
   "metadata": {},
   "outputs": [],
   "source": [
    "# Test cell json builder\n",
    "\n",
    "import json\n",
    "\n",
    "# Test cell\n",
    "jsondata = {}\n",
    "jsondata['key'] = 'value'\n",
    "json_data = json.dumps(jsondata)\n",
    "json_data"
   ]
  },
  {
   "cell_type": "code",
   "execution_count": null,
   "metadata": {},
   "outputs": [],
   "source": [
    "#json builder\n",
    "# Test Cell\n",
    "for row_car in car_data:\n",
    "    merc_jsondata = {}\n",
    "    for elem in row_car[3]:\n",
    "        key = elem[0].replace(':','')\n",
    "        merc_jsondata[key] = elem[1]\n",
    "    merc_json_data = json.dumps(merc_jsondata)\n",
    "    print (merc_json_data)\n",
    "\n"
   ]
  },
  {
   "cell_type": "code",
   "execution_count": null,
   "metadata": {},
   "outputs": [],
   "source": [
    "# call injection class to feed data\n",
    "from DataFeed import Injection\n",
    "for row_car in car_data:\n",
    "    injecter = Injection(row_car[0], row_car[3], row_car[1])\n",
    "    injecter.injectData()"
   ]
  },
  {
   "cell_type": "code",
   "execution_count": null,
   "metadata": {},
   "outputs": [],
   "source": [
    "# Delete car data from dynamo\n",
    "from DataFeed import Injection\n",
    "\n",
    "for row_car in car_data:\n",
    "    injecter = Injection(row_car[0], row_car[3], row_car[1])\n",
    "    injecter.deleteItem()"
   ]
  },
  {
   "cell_type": "code",
   "execution_count": null,
   "metadata": {
    "collapsed": true
   },
   "outputs": [],
   "source": []
  }
 ],
 "metadata": {
  "kernelspec": {
   "display_name": "Python 3",
   "language": "python",
   "name": "python3"
  },
  "language_info": {
   "codemirror_mode": {
    "name": "ipython",
    "version": 3
   },
   "file_extension": ".py",
   "mimetype": "text/x-python",
   "name": "python",
   "nbconvert_exporter": "python",
   "pygments_lexer": "ipython3",
   "version": "3.6.1"
  }
 },
 "nbformat": 4,
 "nbformat_minor": 2
}
